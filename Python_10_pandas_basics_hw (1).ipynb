{
 "cells": [
  {
   "cell_type": "markdown",
   "metadata": {},
   "source": [
    "**Домашнее задание**\n",
    "\n",
    "**Задание 1**\n",
    "Скачайте с сайта https://grouplens.org/datasets/movielens/ датасет любого размера. Определите какому фильму было выставлено больше всего оценок 5.0.\n",
    "\n",
    "**Задание 2**\n",
    "По данным файла power.csv посчитайте суммарное потребление стран Прибалтики (Латвия, Литва и Эстония) категорий 4, 12 и 21 за период с 2005 по 2010 года. Не учитывайте в расчетах отрицательные значения quantity.\n",
    "\n",
    "**Задание 3**\n",
    "Выберите страницу любого сайта с табличными данными. Импортируйте таблицы в pandas dataframe.\n",
    "Примеры страниц (необязательно брать именно эти):\n",
    "https://fortrader.org/quotes\n",
    "https://www.finanz.ru/valyuty/v-realnom-vremeni"
   ]
  },
  {
   "cell_type": "code",
   "execution_count": 55,
   "metadata": {},
   "outputs": [],
   "source": [
    "import pandas as pd"
   ]
  },
  {
   "cell_type": "code",
   "execution_count": 56,
   "metadata": {},
   "outputs": [
    {
     "data": {
      "text/html": [
       "<div>\n",
       "<style scoped>\n",
       "    .dataframe tbody tr th:only-of-type {\n",
       "        vertical-align: middle;\n",
       "    }\n",
       "\n",
       "    .dataframe tbody tr th {\n",
       "        vertical-align: top;\n",
       "    }\n",
       "\n",
       "    .dataframe thead th {\n",
       "        text-align: right;\n",
       "    }\n",
       "</style>\n",
       "<table border=\"1\" class=\"dataframe\">\n",
       "  <thead>\n",
       "    <tr style=\"text-align: right;\">\n",
       "      <th></th>\n",
       "      <th>useri</th>\n",
       "      <th>movie_id</th>\n",
       "      <th>rating</th>\n",
       "      <th>tstamp</th>\n",
       "    </tr>\n",
       "  </thead>\n",
       "  <tbody>\n",
       "    <tr>\n",
       "      <th>0</th>\n",
       "      <td>8e7cebf9a234c064b75016249f2ac65e</td>\n",
       "      <td>1</td>\n",
       "      <td>5.0</td>\n",
       "      <td>2001-09-10 17:19:56</td>\n",
       "    </tr>\n",
       "    <tr>\n",
       "      <th>1</th>\n",
       "      <td>8e7cebf9a234c064b75016249f2ac65e</td>\n",
       "      <td>2</td>\n",
       "      <td>4.0</td>\n",
       "      <td>2001-09-28 11:34:55</td>\n",
       "    </tr>\n",
       "    <tr>\n",
       "      <th>2</th>\n",
       "      <td>8e7cebf9a234c064b75016249f2ac65e</td>\n",
       "      <td>3</td>\n",
       "      <td>4.0</td>\n",
       "      <td>2001-09-28 11:42:50</td>\n",
       "    </tr>\n",
       "    <tr>\n",
       "      <th>3</th>\n",
       "      <td>8e7cebf9a234c064b75016249f2ac65e</td>\n",
       "      <td>5</td>\n",
       "      <td>5.0</td>\n",
       "      <td>2001-09-28 11:27:30</td>\n",
       "    </tr>\n",
       "    <tr>\n",
       "      <th>4</th>\n",
       "      <td>8e7cebf9a234c064b75016249f2ac65e</td>\n",
       "      <td>6</td>\n",
       "      <td>4.0</td>\n",
       "      <td>2002-01-07 18:12:02</td>\n",
       "    </tr>\n",
       "  </tbody>\n",
       "</table>\n",
       "</div>"
      ],
      "text/plain": [
       "                              useri   movie_id   rating                tstamp \n",
       "0  8e7cebf9a234c064b75016249f2ac65e          1      5.0   2001-09-10 17:19:56 \n",
       "1  8e7cebf9a234c064b75016249f2ac65e          2      4.0   2001-09-28 11:34:55 \n",
       "2  8e7cebf9a234c064b75016249f2ac65e          3      4.0   2001-09-28 11:42:50 \n",
       "3  8e7cebf9a234c064b75016249f2ac65e          5      5.0   2001-09-28 11:27:30 \n",
       "4  8e7cebf9a234c064b75016249f2ac65e          6      4.0   2002-01-07 18:12:02 "
      ]
     },
     "execution_count": 56,
     "metadata": {},
     "output_type": "execute_result"
    }
   ],
   "source": [
    "data = pd.read_csv('ratings.csv')\n",
    "data.head()"
   ]
  },
  {
   "cell_type": "code",
   "execution_count": 70,
   "metadata": {},
   "outputs": [
    {
     "data": {
      "text/plain": [
       "0    318\n",
       "dtype: int64"
      ]
     },
     "execution_count": 70,
     "metadata": {},
     "output_type": "execute_result"
    }
   ],
   "source": [
    "#в выбранном датасете из https://grouplens.org/datasets/personality-2018/ заголовки идут через запятую с пробелом, поэтому при обращении к столбцам датасета в наименовании столбца есть пробел\n",
    "data[data[' rating']==5.0][' movie_id'].mode() #отфильтровали фильмы по рейтингу==5 и нашли моду по столбцу идентификаторов фильмов"
   ]
  },
  {
   "cell_type": "code",
   "execution_count": 73,
   "metadata": {},
   "outputs": [
    {
     "data": {
      "text/html": [
       "<div>\n",
       "<style scoped>\n",
       "    .dataframe tbody tr th:only-of-type {\n",
       "        vertical-align: middle;\n",
       "    }\n",
       "\n",
       "    .dataframe tbody tr th {\n",
       "        vertical-align: top;\n",
       "    }\n",
       "\n",
       "    .dataframe thead th {\n",
       "        text-align: right;\n",
       "    }\n",
       "</style>\n",
       "<table border=\"1\" class=\"dataframe\">\n",
       "  <thead>\n",
       "    <tr style=\"text-align: right;\">\n",
       "      <th></th>\n",
       "      <th>country</th>\n",
       "      <th>year</th>\n",
       "      <th>quantity</th>\n",
       "      <th>category</th>\n",
       "    </tr>\n",
       "  </thead>\n",
       "  <tbody>\n",
       "    <tr>\n",
       "      <th>0</th>\n",
       "      <td>Austria</td>\n",
       "      <td>1996</td>\n",
       "      <td>5.0</td>\n",
       "      <td>1</td>\n",
       "    </tr>\n",
       "    <tr>\n",
       "      <th>1</th>\n",
       "      <td>Austria</td>\n",
       "      <td>1995</td>\n",
       "      <td>17.0</td>\n",
       "      <td>1</td>\n",
       "    </tr>\n",
       "    <tr>\n",
       "      <th>2</th>\n",
       "      <td>Belgium</td>\n",
       "      <td>2014</td>\n",
       "      <td>0.0</td>\n",
       "      <td>1</td>\n",
       "    </tr>\n",
       "    <tr>\n",
       "      <th>3</th>\n",
       "      <td>Belgium</td>\n",
       "      <td>2013</td>\n",
       "      <td>0.0</td>\n",
       "      <td>1</td>\n",
       "    </tr>\n",
       "    <tr>\n",
       "      <th>4</th>\n",
       "      <td>Belgium</td>\n",
       "      <td>2012</td>\n",
       "      <td>35.0</td>\n",
       "      <td>1</td>\n",
       "    </tr>\n",
       "  </tbody>\n",
       "</table>\n",
       "</div>"
      ],
      "text/plain": [
       "   country  year  quantity  category\n",
       "0  Austria  1996       5.0         1\n",
       "1  Austria  1995      17.0         1\n",
       "2  Belgium  2014       0.0         1\n",
       "3  Belgium  2013       0.0         1\n",
       "4  Belgium  2012      35.0         1"
      ]
     },
     "execution_count": 73,
     "metadata": {},
     "output_type": "execute_result"
    }
   ],
   "source": [
    "data = pd.read_csv('power.csv')\n",
    "data.head()"
   ]
  },
  {
   "cell_type": "code",
   "execution_count": 95,
   "metadata": {},
   "outputs": [
    {
     "data": {
      "text/plain": [
       "240580.0"
      ]
     },
     "execution_count": 95,
     "metadata": {},
     "output_type": "execute_result"
    }
   ],
   "source": [
    "data.query('country in (\"Latvia\", \"Lithuania\", \"Estonia\") and category in (4,12,21) and year>=2005 and year<=2010 and quantity>=0')['quantity'].sum()"
   ]
  },
  {
   "cell_type": "code",
   "execution_count": 112,
   "metadata": {},
   "outputs": [],
   "source": [
    "page_url='https://www.tradingview.com/markets/cryptocurrencies/prices-all/'\n",
    "df = pd.read_html(page_url, attrs = {'class': 'tv-data-table tv-screener-table'}, encoding='utf-8')"
   ]
  },
  {
   "cell_type": "code",
   "execution_count": 113,
   "metadata": {},
   "outputs": [
    {
     "data": {
      "text/plain": [
       "[             Unnamed: 0 Unnamed: 1 Unnamed: 2  Unnamed: 3 Unnamed: 4  \\\n",
       " 0               Bitcoin   881.297B   994.459B    47355.18    18.610M   \n",
       " 1              Ethereum   203.624B   203.624B     1779.89   114.402M   \n",
       " 2               Cardano    29.246B    42.300B        0.94    31.112B   \n",
       " 3                Tether    24.936B    25.530B        1.00    24.916B   \n",
       " 4                   XRP    23.695B    52.188B        0.52    45.404B   \n",
       " ..                  ...        ...        ...         ...        ...   \n",
       " 145  F  Harvest Finance   159.061M   245.885M      356.14   446.629K   \n",
       " 146            MonaCoin   158.371M   158.371M        2.41    65.730M   \n",
       " 147        BigONE Token   157.544M   226.737M        0.02     8.755B   \n",
       " 148    Morpheus.Network   154.943M   157.298M        3.28    47.180M   \n",
       " 149     P  Polkastarter   152.560M   296.964M        2.97    51.373M   \n",
       " \n",
       "     Unnamed: 5 Unnamed: 6 Unnamed: 7  \n",
       " 0      21.000M    59.897B      5.57%  \n",
       " 1     114.402M    43.566B      2.14%  \n",
       " 2      45.000B     2.340B     -0.11%  \n",
       " 3      25.510B   101.159B     -0.01%  \n",
       " 4     100.000B     2.926B      3.06%  \n",
       " ..         ...        ...        ...  \n",
       " 145   690.420K     1.627M     13.34%  \n",
       " 146    65.730M     6.698M     10.94%  \n",
       " 147    12.600B     4.955M     -4.48%  \n",
       " 148    47.897M     3.888M      1.80%  \n",
       " 149   100.000M    29.885M     26.77%  \n",
       " \n",
       " [150 rows x 8 columns]]"
      ]
     },
     "execution_count": 113,
     "metadata": {},
     "output_type": "execute_result"
    }
   ],
   "source": [
    "df[:5]"
   ]
  },
  {
   "cell_type": "code",
   "execution_count": null,
   "metadata": {},
   "outputs": [],
   "source": []
  }
 ],
 "metadata": {
  "kernelspec": {
   "display_name": "Python 3",
   "language": "python",
   "name": "python3"
  },
  "language_info": {
   "codemirror_mode": {
    "name": "ipython",
    "version": 3
   },
   "file_extension": ".py",
   "mimetype": "text/x-python",
   "name": "python",
   "nbconvert_exporter": "python",
   "pygments_lexer": "ipython3",
   "version": "3.8.5"
  }
 },
 "nbformat": 4,
 "nbformat_minor": 2
}
